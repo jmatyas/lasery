{
 "cells": [
  {
   "cell_type": "code",
   "execution_count": 16,
   "metadata": {},
   "outputs": [
    {
     "name": "stdout",
     "output_type": "stream",
     "text": [
      "Cental_wavelegnth: 639.00 nm +/- 5.00 nm\n",
      "Central frequency: 469.48 THz\n",
      "Frequency range: 465.84 - 473.19 THz = 7.35 THz\n",
      "=== Cavity Length: 15.00 mm ===\n",
      "FSR: 10.00 GHz\n",
      "Number of FSR in range: 734.76\n"
     ]
    }
   ],
   "source": [
    "from matplotlib import pyplot as plt\n",
    "import numpy as np\n",
    "\n",
    "c = 3e8 # m/s\n",
    "cavity_length = 15e-3  # m\n",
    "\n",
    "# lambda0 = 780e-9\n",
    "# lambda0_dev = 1e-9\n",
    "lambda0 = 639e-9\n",
    "lambda0_dev = 5e-9\n",
    "# # lambda0 = 517e-9\n",
    "# # lambda0_dev = 1e-9\n",
    "print(f\"Cental_wavelegnth: {lambda0*1e9:.2f} nm +/- {lambda0_dev*1e9:.2f} nm\")\n",
    "\n",
    "freq0 = c/lambda0\n",
    "lambda_min = lambda0 - lambda0_dev\n",
    "lambda_max = lambda0 + lambda0_dev\n",
    "freq0_start = c/(lambda_max)\n",
    "freq0_end = c/(lambda_min)\n",
    "\n",
    "print(f\"Central frequency: {freq0/1e12:.2f} THz\")\n",
    "print(f\"Frequency range: {freq0_start/1e12:.2f} - {freq0_end/1e12:.2f} THz = {(freq0_end - freq0_start)/1e12:.2f} THz\")\n",
    "\n",
    "FSR = c/(2*cavity_length)\n",
    "n_FSR_in_range = (freq0_end - freq0_start) / FSR\n",
    "\n",
    "print(f\"=== Cavity Length: {cavity_length*1e3:.2f} mm ===\")\n",
    "print(f\"FSR: {FSR/1e9:.2f} GHz\")\n",
    "print(f\"Number of FSR in range: {n_FSR_in_range:.2f}\")\n"
   ]
  },
  {
   "cell_type": "markdown",
   "metadata": {},
   "source": [
    "### Diffration grating equation\n",
    "\n",
    "\\begin{equation}\n",
    "d(\\sin(\\theta_m) + \\sin(\\theta_i)) = m\\lambda\n",
    "\\end{equation}\n",
    "\n",
    "where $d$ is diffraction grating period, $\\theta_m$ is an angle of $m-th$ diffraction order, $\\theta_i$ is an angle of the incident beam\n",
    "\n",
    "Littrow configuration is often used in external cavity laser systems, which means that beam of a particular diffraction order is reflected back to the cavityy. Most often $m=1$ is used as an optical feedback due to various reasons. This means that $\\theta_{m=1}$ is equal to $\\theta_i$ which results in:\n",
    "\\begin{equation}\n",
    "2d\\sin(\\theta_{m=1}) = m\\lambda\n",
    "\\end{equation}\n",
    "\n",
    "and allows to obtain equation of $\\theta$ as a function of $\\lambda$ and $d$:\n",
    "\\begin{equation}\n",
    "\\theta(\\lambda,d)_{m=1} = \\arcsin(\\frac{\\lambda}{2d})\n",
    "\\end{equation}\n",
    "\n",
    "Which denotes diffraction grating's theoretically available angles that allow to obtain ECDL"
   ]
  },
  {
   "cell_type": "code",
   "execution_count": 17,
   "metadata": {},
   "outputs": [],
   "source": [
    "\n",
    "def rad2deg(rad):\n",
    "    return rad * 180/np.pi\n",
    "\n",
    "def find_littrow_angle(grating_period, lambda0, m=1):\n",
    "    d = grating_period\n",
    "    \n",
    "    # for small radians we could assume that deviation range can be calculated without lambda0\n",
    "    # however, for 639 nm, arcsin's argument is 0.58, which is not small enough\n",
    "    central_angle = np.arcsin((m*lambda0/(2*d)))\n",
    "    return central_angle\n"
   ]
  },
  {
   "cell_type": "markdown",
   "metadata": {},
   "source": [
    "### Angular dispersion\n",
    "\n",
    "Angular dispersion is defined as\n",
    "\\begin{equation}\n",
    "D = \\frac{d\\theta}{d\\lambda}\n",
    "\\end{equation}\n",
    "\n",
    "Grating equation for Littrow configuration, where incident beam angle is same as the diffracted one:\n",
    "\\begin{equation}\n",
    "m\\lambda = 2a\\sin(\\theta)\n",
    "\\end{equation}\n",
    "\n",
    "We can now differentiate both sides of the equation with respect to $\\theta$ (note that $\\theta$ is a function of $\\lambda$):\n",
    "\\begin{equation}\n",
    "m = 2a\\frac{d\\theta}{d\\lambda}\\cos(\\theta)\n",
    "\\end{equation}\n",
    "\n",
    "\\begin{equation}\n",
    "\\frac{d\\theta}{d\\lambda} = \\frac{m}{2a\\cos(\\theta)}\n",
    "\\end{equation}\n",
    "\n",
    "However, this might give false impression that the ratio $\\frac{m}{a}$ maybe chosen independently of other paremeters. Let's take $\\frac{m}{a}$ ratio from grating equation, because this condition must still be met:\n",
    "\n",
    "\\begin{equation}\n",
    "\\frac{m}{a} = \\frac{2\\sin(\\theta)}{\\lambda},\n",
    "\\end{equation}\n",
    "so after substitution:\n",
    "\\begin{equation}\n",
    "\\frac{d\\theta}{d\\lambda} = \\frac{\\sin(\\theta)}{\\lambda\\cos(\\theta)} = \\frac{1}{\\lambda}\\tan{\\theta}\n",
    "\\end{equation}"
   ]
  },
  {
   "cell_type": "code",
   "execution_count": 18,
   "metadata": {},
   "outputs": [],
   "source": [
    "def ang_dispersion(theta_m, lambda0):\n",
    "    # returns dispersion in deg/m\n",
    "    # allows to retrieve angle change as a function of wavelength\n",
    "    # use 1/D_littrow to get change of wavelength as a function of angle\n",
    "    D_littrow = np.tan(theta_m)/lambda0\n",
    "\n",
    "    return D_littrow\n",
    "\n",
    "def find_linear_range(deviation_angle, cavity_length):\n",
    "    # linear range at the cavity_length distance from the grating\n",
    "    return np.tan(deviation_angle) * cavity_length * 2 # 2 is because we are calculating the range from the center\n",
    "\n",
    "\n",
    "def littrow_params_ecdl(grating_period, lambda0, lambda_deviation, cavity_length, n_FSR_in_range, m=1):\n",
    "    central_angle = find_littrow_angle(grating_period, lambda0, m)\n",
    "    deviation_angle = ang_dispersion(central_angle, lambda0) * lambda_deviation # FIXME: deviation actually means something in laser systems, not sure if used in this meaning is correct\n",
    "    \n",
    "    linear_range = find_linear_range(deviation_angle, cavity_length)\n",
    "    linear_separation = linear_range/n_FSR_in_range # this is more or less\n",
    "    \n",
    "    return central_angle, deviation_angle, linear_range, linear_separation"
   ]
  },
  {
   "cell_type": "code",
   "execution_count": 19,
   "metadata": {},
   "outputs": [
    {
     "name": "stdout",
     "output_type": "stream",
     "text": [
      "Wavelegnth: 639.00 nm +/- 5.00 nm\n",
      "\n",
      "=== Grating lines/mm: 1200 period: 0.8333 um ===\n",
      "Main angle: 22.5444 deg +/- 0.1861 deg = 669.9937 arcsec\n",
      "Angular dispersion [rad/nm]: 0.0006496442584578266; [deg/nm]: 0.037221874194539505\n",
      "Linear range at `cavity_length` (15.0 mm) distance from the grating: 97.4470 um\n",
      "Linear separation: 0.1326 um\n",
      "Linear separation 0.9119 arcsec\n",
      "\n",
      "=== Grating lines/mm: 1600 period: 0.625 um ===\n",
      "Main angle: 30.7438 deg +/- 0.2667 deg = 959.9720 arcsec\n",
      "Angular dispersion [rad/nm]: 0.000930815091368513; [deg/nm]: 0.05333177624249989\n",
      "Linear range at `cavity_length` (15.0 mm) distance from the grating: 139.6233 um\n",
      "Linear separation: 0.1900 um\n",
      "Linear separation 1.3065 arcsec\n",
      "\n",
      "=== Grating lines/mm: 1800 period: 0.5556 um ===\n",
      "Main angle: 35.1066 deg +/- 0.3152 deg = 1134.5933 arcsec\n",
      "Angular dispersion [rad/nm]: 0.001100132711241269; [deg/nm]: 0.06303296125840921\n",
      "Linear range at `cavity_length` (15.0 mm) distance from the grating: 165.0216 um\n",
      "Linear separation: 0.2246 um\n",
      "Linear separation 1.5442 arcsec\n",
      "\n",
      "=== Grating lines/mm: 2000 period: 0.5 um ===\n",
      "Main angle: 39.7173 deg +/- 0.3724 deg = 1340.7631 arcsec\n",
      "Angular dispersion [rad/nm]: 0.0013000406204037869; [deg/nm]: 0.07448684074470613\n",
      "Linear range at `cavity_length` (15.0 mm) distance from the grating: 195.0088 um\n",
      "Linear separation: 0.2654 um\n",
      "Linear separation 1.8248 arcsec\n",
      "\n",
      "=== Grating lines/mm: 2200 period: 0.4545 um ===\n",
      "Main angle: 44.6601 deg +/- 0.4430 deg = 1594.9311 arcsec\n",
      "Angular dispersion [rad/nm]: 0.0015464888264122567; [deg/nm]: 0.08860728281756212\n",
      "Linear range at `cavity_length` (15.0 mm) distance from the grating: 231.9779 um\n",
      "Linear separation: 0.3157 um\n",
      "Linear separation 2.1707 arcsec\n",
      "\n",
      "=== Grating lines/mm: 2400 period: 0.4167 um ===\n",
      "Main angle: 50.0674 deg +/- 0.5356 deg = 1928.0505 arcsec\n",
      "Angular dispersion [rad/nm]: 0.0018694905651091772; [deg/nm]: 0.10711391922028309\n",
      "Linear range at `cavity_length` (15.0 mm) distance from the grating: 280.4318 um\n",
      "Linear separation: 0.3817 um\n",
      "Linear separation 2.6241 arcsec\n",
      "\n"
     ]
    }
   ],
   "source": [
    "gratings = [1200, 1600, 1800, 2000, 2200, 2400]  # lines/mm\n",
    "\n",
    "# gratings = [1800]\n",
    "print(f\"Wavelegnth: {lambda0*1e9:.2f} nm +/- {lambda0_dev*1e9:.2f} nm\")\n",
    "print()\n",
    "for grating in gratings:\n",
    "    grating_period = 1e-3/grating\n",
    "    central_angle, deviation_angle, linear_range, linear_separation = littrow_params_ecdl(grating_period, lambda0, lambda0_dev, cavity_length, n_FSR_in_range)\n",
    "    disp = ang_dispersion(central_angle, lambda0)\n",
    "    \n",
    "    print(f\"=== Grating lines/mm: {grating} period: {grating_period*1e6:.4} um ===\")\n",
    "    print(f\"Main angle: {rad2deg(central_angle):.4f} deg +/- {rad2deg(deviation_angle):.4f} deg = {rad2deg(deviation_angle)*3600:.4f} arcsec\")\n",
    "    print(f\"Angular dispersion [rad/nm]: {disp/1e9}; [deg/nm]: {rad2deg(disp)/1e9}\")\n",
    "    print(f\"Linear range at `cavity_length` ({cavity_length*1e3} mm) distance from the grating: {linear_range*1e6:.4f} um\")\n",
    "    print(f\"Linear separation: {linear_separation*1e6:.4f} um\")\n",
    "    print(f\"Linear separation {rad2deg(deviation_angle)*3600/n_FSR_in_range:.4f} arcsec\")\n",
    "    print()\n",
    "\n"
   ]
  },
  {
   "cell_type": "code",
   "execution_count": 20,
   "metadata": {},
   "outputs": [
    {
     "name": "stdout",
     "output_type": "stream",
     "text": [
      "Wavelegnth: 639.00 nm +/- 5.00 nm\n",
      "Main angle: 35.106635556883944 deg +/- 0.3151648062920461 deg = 1134.5933026513658 arcsec\n",
      "Dispersion [rad/nm]: 0.001100132711241269, [deg/nm]: 0.06303296125840921\n",
      "Deviation angle: 0.3151648062920461 deg\n"
     ]
    }
   ],
   "source": [
    "\n",
    "grating = 1800 # lines/mm\n",
    "print(f\"Wavelegnth: {lambda0*1e9:.2f} nm +/- {lambda0_dev*1e9:.2f} nm\")\n",
    "\n",
    "central_angle, deviation_angle, linear_range, linear_separation = littrow_params_ecdl(1e-3/grating, lambda0, lambda0_dev, cavity_length, n_FSR_in_range)\n",
    "print(f\"Main angle: {rad2deg(central_angle)} deg +/- {rad2deg(deviation_angle)} deg = {rad2deg(deviation_angle)*3600} arcsec\")\n",
    "dispersion = ang_dispersion(central_angle, lambda0)\n",
    "print(f\"Dispersion [rad/nm]: {dispersion/1e9}, [deg/nm]: {rad2deg(dispersion)/1e9}\")\n",
    "\n",
    "deviated_angle = dispersion * lambda0_dev\n",
    "print(f\"Deviation angle: {rad2deg(deviated_angle)} deg\")"
   ]
  },
  {
   "cell_type": "markdown",
   "metadata": {},
   "source": [
    "### Resolution\n",
    "Rayleigh criterion states that two different wavelengths $\\lambda_1$ and $\\lambda_2$ can be resolved if maksimum of one line is in the same spot as the first minum of the second.\n",
    "$\\delta\\lambda$ or $(\\Delta\\lambda)_{min}$ is the least resolvable wavelength difference, or limit of resolution. At the limit of resolution the angular separation is half the linewidth.\n",
    "\n",
    "Chromatic resolving power is defined as:\n",
    "\\begin{equation}\n",
    "\\mathscr{R} \\equiv \\frac{\\lambda}{\\delta\\lambda}\n",
    "\\end{equation}\n",
    "\n",
    "Theoretical resolving power of a planar diffraction grating is given by:\n",
    "\\begin{equation}\n",
    "\\mathscr{R} = mN\n",
    "\\end{equation}\n",
    "\n",
    "One can use the grating equation to replace m:\n",
    "\\begin{equation}\n",
    "\\mathscr{R} = \\frac{Na(\\sin(\\theta_m)+\\sin(\\theta_i))}{\\lambda}\n",
    "\\end{equation}\n",
    "\n",
    "That means that the resolving power cannot exceed $\\frac{2Na}{\\lambda}$ which occurs when both angles are the same ($\\theta_m=\\theta_in=90^{\\circ}$). Greatest values of resolving power are obtained when the grating is used in an autocollimation (Littrow configuration):\n",
    "\\begin{equation}\n",
    "\\mathscr{R} = \\frac{2Na\\sin(\\theta_i)}{\\lambda}\n",
    "\\end{equation}\n",
    "\n",
    "\n",
    "Angular width of the line:\n",
    "\\begin{equation}\n",
    "\\Delta\\theta = \\frac{2\\lambda}{Na\\cos(\\theta_m)}\n",
    "\\end{equation}\n",
    "where $N$ is number of lines covered by the beam. The angular linewidth varies inveries with the width of the grating itself $Na$.\n",
    "\n",
    ", or:\n",
    "\\begin{equation}\n",
    "\\delta\\theta = \\frac{\\lambda}{Na\\cos{\\theta_m}}\n",
    "\\end{equation}\n",
    "\n",
    "\\begin{equation}\n",
    "\\delta = \\frac{\\lambda^2}{Na(\\sin(\\theta_i) + \\sin(\\theta_m))}\n",
    "\\end{equation}\n",
    "\n",
    "\n",
    "\n",
    "\\begin{equation}\n",
    "\\mathscr{R} = \\frac{Na(\\sin(\\theta_i)+\\sin(\\theta_m))}{\\lambda}\n",
    "\\end{equation}\n",
    "which :\n",
    "\n"
   ]
  },
  {
   "cell_type": "code",
   "execution_count": 22,
   "metadata": {},
   "outputs": [
    {
     "name": "stdout",
     "output_type": "stream",
     "text": [
      "0.003749252279910245 0.2148163319686586\n"
     ]
    }
   ],
   "source": [
    "N = 1000\n",
    "ang_width = 2*lambda0/(N*grating_period*np.cos(central_angle))\n",
    "print(ang_width, rad2deg(ang_width))"
   ]
  },
  {
   "cell_type": "markdown",
   "metadata": {},
   "source": [
    "### Wavelength\n",
    "Emitted wavelength is given with \n",
    "\\begin{equation}\n",
    "\\lambda = \\frac{2nl}{m}\n",
    "\\end{equation}\n",
    "\n",
    "where $m$ is the longitudonal mode number, $l$ is laser's cavity length and $n$ is refractive index of the diode material (oftentimes $n=0.3$)\n",
    "\n"
   ]
  }
 ],
 "metadata": {
  "kernelspec": {
   "display_name": ".venv",
   "language": "python",
   "name": "python3"
  },
  "language_info": {
   "codemirror_mode": {
    "name": "ipython",
    "version": 3
   },
   "file_extension": ".py",
   "mimetype": "text/x-python",
   "name": "python",
   "nbconvert_exporter": "python",
   "pygments_lexer": "ipython3",
   "version": "3.11.4"
  }
 },
 "nbformat": 4,
 "nbformat_minor": 2
}
